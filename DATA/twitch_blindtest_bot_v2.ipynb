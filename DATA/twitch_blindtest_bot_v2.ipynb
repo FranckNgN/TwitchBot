{
 "cells": [
  {
   "cell_type": "markdown",
   "metadata": {},
   "source": [
    "# Twitch Bot"
   ]
  },
  {
   "cell_type": "code",
   "execution_count": 221,
   "metadata": {},
   "outputs": [],
   "source": [
    "import logging\n",
    "import socket\n",
    "import pandas as pd\n",
    "import numpy as np\n",
    "from emoji import demojize\n",
    "import Levenshtein as lev\n",
    "import re\n",
    "from datetime import datetime"
   ]
  },
  {
   "cell_type": "code",
   "execution_count": 204,
   "metadata": {},
   "outputs": [],
   "source": [
    "def levCalclulate(str1, str2):\n",
    "    Distance = lev.distance(str1, str2)\n",
    "    Ratio = lev.ratio(str1, str2)\n",
    "#     print(\"Levenshtein entre {0} et {1}\".format(str1, str2))\n",
    "#     print(\"> Distance: {0}\\n> Ratio: {1}\\n\".format(Distance, Ratio))\n",
    "    return Distance, Ratio"
   ]
  },
  {
   "cell_type": "markdown",
   "metadata": {},
   "source": [
    "#### BDD Anime"
   ]
  },
  {
   "cell_type": "code",
   "execution_count": 205,
   "metadata": {},
   "outputs": [],
   "source": [
    "bdd = pd.read_excel(r'BDD\\bdd_blindtest_v1.xlsx')\n",
    "\n",
    "def remove_all_extra_spaces(string):\n",
    "    return \" \".join(string.split())\n",
    "\n",
    "bdd = bdd.apply(lambda x: x.astype(str).str.lower())\n",
    "bdd.loc[bdd[\"Type du son (EP,ED,OST)\"] == \"ost\", \"Numéro du son\"] = 0\n",
    "bdd[\"Numéro du son\"] = bdd[\"Numéro du son\"].astype(float).astype(int)"
   ]
  },
  {
   "cell_type": "markdown",
   "metadata": {},
   "source": [
    "#### Barème\n",
    "- Nom de l'oeuvre : +3 pts\n",
    "- Titre du son : +1 pts\n",
    "- Type du son : + 0.5 pts\n",
    "- Numéro du son : + 0.5 pts\n",
    "- Auteur du son : +1 pts"
   ]
  },
  {
   "cell_type": "markdown",
   "metadata": {},
   "source": [
    "#### DataFrame avec une série de 10 questions aléatoire prisent depuis la base de donnée."
   ]
  },
  {
   "cell_type": "code",
   "execution_count": 206,
   "metadata": {},
   "outputs": [],
   "source": [
    "# Nombre de questions par séries\n",
    "nb_q = 10"
   ]
  },
  {
   "cell_type": "code",
   "execution_count": 207,
   "metadata": {},
   "outputs": [],
   "source": [
    "import random"
   ]
  },
  {
   "cell_type": "code",
   "execution_count": 208,
   "metadata": {},
   "outputs": [
    {
     "data": {
      "text/html": [
       "<div>\n",
       "<style scoped>\n",
       "    .dataframe tbody tr th:only-of-type {\n",
       "        vertical-align: middle;\n",
       "    }\n",
       "\n",
       "    .dataframe tbody tr th {\n",
       "        vertical-align: top;\n",
       "    }\n",
       "\n",
       "    .dataframe thead th {\n",
       "        text-align: right;\n",
       "    }\n",
       "</style>\n",
       "<table border=\"1\" class=\"dataframe\">\n",
       "  <thead>\n",
       "    <tr style=\"text-align: right;\">\n",
       "      <th></th>\n",
       "      <th>Catégorie</th>\n",
       "      <th>Nom de l'oeuvre</th>\n",
       "      <th>Titre du son</th>\n",
       "      <th>Type du son (EP,ED,OST)</th>\n",
       "      <th>Numéro du son</th>\n",
       "      <th>Auteur du son</th>\n",
       "    </tr>\n",
       "  </thead>\n",
       "  <tbody>\n",
       "    <tr>\n",
       "      <th>1</th>\n",
       "      <td>anime</td>\n",
       "      <td>shingeki no kyojin s2</td>\n",
       "      <td>shinzou wo sasageyo!</td>\n",
       "      <td>op</td>\n",
       "      <td>1</td>\n",
       "      <td>linked horizon</td>\n",
       "    </tr>\n",
       "    <tr>\n",
       "      <th>2</th>\n",
       "      <td>anime</td>\n",
       "      <td>naruto</td>\n",
       "      <td>naruto main theme</td>\n",
       "      <td>ost</td>\n",
       "      <td>0</td>\n",
       "      <td>toshio masuda</td>\n",
       "    </tr>\n",
       "    <tr>\n",
       "      <th>3</th>\n",
       "      <td>anime</td>\n",
       "      <td>one piece</td>\n",
       "      <td>we are! (remix)</td>\n",
       "      <td>op</td>\n",
       "      <td>10</td>\n",
       "      <td>tvxq!</td>\n",
       "    </tr>\n",
       "    <tr>\n",
       "      <th>4</th>\n",
       "      <td>anime</td>\n",
       "      <td>naruto</td>\n",
       "      <td>seishun kyousoukyoku</td>\n",
       "      <td>op</td>\n",
       "      <td>5</td>\n",
       "      <td>sambomaster</td>\n",
       "    </tr>\n",
       "    <tr>\n",
       "      <th>5</th>\n",
       "      <td>anime</td>\n",
       "      <td>code geass - lelouch of the rebellion o.s.t. 2</td>\n",
       "      <td>innocent days</td>\n",
       "      <td>ost</td>\n",
       "      <td>0</td>\n",
       "      <td>kōtarō nakagawa, hitomi kuroishi</td>\n",
       "    </tr>\n",
       "    <tr>\n",
       "      <th>6</th>\n",
       "      <td>anime</td>\n",
       "      <td>fullmetal alchemist brotherhood</td>\n",
       "      <td>hologram</td>\n",
       "      <td>op</td>\n",
       "      <td>2</td>\n",
       "      <td>nico touches the walls</td>\n",
       "    </tr>\n",
       "    <tr>\n",
       "      <th>7</th>\n",
       "      <td>anime</td>\n",
       "      <td>bleach</td>\n",
       "      <td>dtecnolife</td>\n",
       "      <td>op</td>\n",
       "      <td>2</td>\n",
       "      <td>uverworld</td>\n",
       "    </tr>\n",
       "    <tr>\n",
       "      <th>8</th>\n",
       "      <td>anime</td>\n",
       "      <td>code geass : lelouch of the rebellion r2</td>\n",
       "      <td>o2</td>\n",
       "      <td>op</td>\n",
       "      <td>1</td>\n",
       "      <td>orange range</td>\n",
       "    </tr>\n",
       "    <tr>\n",
       "      <th>9</th>\n",
       "      <td>anime</td>\n",
       "      <td>code geass: lelouch of the rebellion</td>\n",
       "      <td>all hail britannia!!!</td>\n",
       "      <td>ost</td>\n",
       "      <td>0</td>\n",
       "      <td>kōtarō nakagawa, hitomi kuroishi</td>\n",
       "    </tr>\n",
       "    <tr>\n",
       "      <th>10</th>\n",
       "      <td>anime</td>\n",
       "      <td>naruto shippuden</td>\n",
       "      <td>utakata hanabi</td>\n",
       "      <td>ed</td>\n",
       "      <td>14</td>\n",
       "      <td>supercell</td>\n",
       "    </tr>\n",
       "  </tbody>\n",
       "</table>\n",
       "</div>"
      ],
      "text/plain": [
       "   Catégorie                                 Nom de l'oeuvre  \\\n",
       "1      anime                           shingeki no kyojin s2   \n",
       "2      anime                                          naruto   \n",
       "3      anime                                       one piece   \n",
       "4      anime                                          naruto   \n",
       "5      anime  code geass - lelouch of the rebellion o.s.t. 2   \n",
       "6      anime                 fullmetal alchemist brotherhood   \n",
       "7      anime                                          bleach   \n",
       "8      anime       code geass : lelouch of the rebellion r2    \n",
       "9      anime            code geass: lelouch of the rebellion   \n",
       "10     anime                                naruto shippuden   \n",
       "\n",
       "             Titre du son Type du son (EP,ED,OST)  Numéro du son  \\\n",
       "1    shinzou wo sasageyo!                      op              1   \n",
       "2       naruto main theme                     ost              0   \n",
       "3         we are! (remix)                      op             10   \n",
       "4    seishun kyousoukyoku                      op              5   \n",
       "5           innocent days                     ost              0   \n",
       "6                hologram                      op              2   \n",
       "7             dtecnolife                       op              2   \n",
       "8                      o2                      op              1   \n",
       "9   all hail britannia!!!                     ost              0   \n",
       "10         utakata hanabi                      ed             14   \n",
       "\n",
       "                       Auteur du son  \n",
       "1                     linked horizon  \n",
       "2                      toshio masuda  \n",
       "3                              tvxq!  \n",
       "4                        sambomaster  \n",
       "5   kōtarō nakagawa, hitomi kuroishi  \n",
       "6             nico touches the walls  \n",
       "7                          uverworld  \n",
       "8                       orange range  \n",
       "9   kōtarō nakagawa, hitomi kuroishi  \n",
       "10                         supercell  "
      ]
     },
     "execution_count": 208,
     "metadata": {},
     "output_type": "execute_result"
    }
   ],
   "source": [
    "liste_random = []\n",
    "\n",
    "for i in range(nb_q): liste_random.append(random.randint(0, len(bdd)))\n",
    "\n",
    "df_q = bdd.iloc[liste_random]\n",
    "df_q.index = np.arange(1, len(df_q)+1)\n",
    "df_q"
   ]
  },
  {
   "cell_type": "code",
   "execution_count": 332,
   "metadata": {},
   "outputs": [],
   "source": [
    "df_q_save = df_q"
   ]
  },
  {
   "cell_type": "markdown",
   "metadata": {},
   "source": [
    "#### Tableau participant\n",
    "A voir plus tard comment ajouter les participants sur cette liste.\n",
    "Faire en sorte que la liste se met à jour automatiquement avec les participants sur le tchat twitch."
   ]
  },
  {
   "cell_type": "code",
   "execution_count": 457,
   "metadata": {},
   "outputs": [
    {
     "name": "stderr",
     "output_type": "stream",
     "text": [
      "<ipython-input-457-fcec55f414d2>:1: SettingWithCopyWarning: \n",
      "A value is trying to be set on a copy of a slice from a DataFrame.\n",
      "Try using .loc[row_indexer,col_indexer] = value instead\n",
      "\n",
      "See the caveats in the documentation: https://pandas.pydata.org/pandas-docs/stable/user_guide/indexing.html#returning-a-view-versus-a-copy\n",
      "  df_q[\"Numéro du son\"] = df_q[\"Numéro du son\"].astype(str)\n"
     ]
    }
   ],
   "source": [
    "df_q[\"Numéro du son\"] = df_q[\"Numéro du son\"].astype(str)"
   ]
  },
  {
   "cell_type": "code",
   "execution_count": 458,
   "metadata": {},
   "outputs": [],
   "source": [
    "joueurs = [\"MCK\",\"PEPITO\",\"BLEATZ\",\"GOGO\",\"SENTHS\",\"WASSB\",\"GOLSTO\"] # se maj avec twitch\n",
    "nb_j = len(joueurs)"
   ]
  },
  {
   "cell_type": "markdown",
   "metadata": {},
   "source": [
    "#### Tableau score\n",
    "Le tableau score, affiche le score de chaque participant à chaque question. Ajout une ligne automatiquement lorsqu'un nouveau joueur rejoint la partie, et donc commence avec 0 pts."
   ]
  },
  {
   "cell_type": "code",
   "execution_count": 459,
   "metadata": {},
   "outputs": [
    {
     "data": {
      "text/html": [
       "<div>\n",
       "<style scoped>\n",
       "    .dataframe tbody tr th:only-of-type {\n",
       "        vertical-align: middle;\n",
       "    }\n",
       "\n",
       "    .dataframe tbody tr th {\n",
       "        vertical-align: top;\n",
       "    }\n",
       "\n",
       "    .dataframe thead th {\n",
       "        text-align: right;\n",
       "    }\n",
       "</style>\n",
       "<table border=\"1\" class=\"dataframe\">\n",
       "  <thead>\n",
       "    <tr style=\"text-align: right;\">\n",
       "      <th></th>\n",
       "      <th>Joueur</th>\n",
       "      <th>Question</th>\n",
       "      <th>Nom de l'oeuvre</th>\n",
       "      <th>Titre du son</th>\n",
       "      <th>Type du son (EP,ED,OST)</th>\n",
       "      <th>Numéro du son</th>\n",
       "      <th>Auteur du son</th>\n",
       "    </tr>\n",
       "  </thead>\n",
       "  <tbody>\n",
       "  </tbody>\n",
       "</table>\n",
       "</div>"
      ],
      "text/plain": [
       "Empty DataFrame\n",
       "Columns: [Joueur, Question, Nom de l'oeuvre, Titre du son, Type du son (EP,ED,OST), Numéro du son, Auteur du son]\n",
       "Index: []"
      ]
     },
     "execution_count": 459,
     "metadata": {},
     "output_type": "execute_result"
    }
   ],
   "source": [
    "columns_score = [\"Joueur\", \"Question\"]\n",
    "for i in list(bdd.columns[1:6]):  columns_score.append(i)\n",
    "df_score = pd.DataFrame(columns=columns_score)    \n",
    "df_score"
   ]
  },
  {
   "cell_type": "code",
   "execution_count": 460,
   "metadata": {},
   "outputs": [],
   "source": [
    "liste_q = []\n",
    "\n",
    "for q in range(1,nb_q+1):\n",
    "    for j in range(nb_j): \n",
    "        liste_q.append(q)   "
   ]
  },
  {
   "cell_type": "code",
   "execution_count": 461,
   "metadata": {},
   "outputs": [],
   "source": [
    "df_score[\"Joueur\"] = joueurs*nb_q\n",
    "df_score[\"Question\"] = liste_q"
   ]
  },
  {
   "cell_type": "code",
   "execution_count": 462,
   "metadata": {},
   "outputs": [
    {
     "data": {
      "text/html": [
       "<div>\n",
       "<style scoped>\n",
       "    .dataframe tbody tr th:only-of-type {\n",
       "        vertical-align: middle;\n",
       "    }\n",
       "\n",
       "    .dataframe tbody tr th {\n",
       "        vertical-align: top;\n",
       "    }\n",
       "\n",
       "    .dataframe thead th {\n",
       "        text-align: right;\n",
       "    }\n",
       "</style>\n",
       "<table border=\"1\" class=\"dataframe\">\n",
       "  <thead>\n",
       "    <tr style=\"text-align: right;\">\n",
       "      <th></th>\n",
       "      <th>Joueur</th>\n",
       "      <th>Question</th>\n",
       "      <th>Nom de l'oeuvre</th>\n",
       "      <th>Titre du son</th>\n",
       "      <th>Type du son (EP,ED,OST)</th>\n",
       "      <th>Numéro du son</th>\n",
       "      <th>Auteur du son</th>\n",
       "    </tr>\n",
       "  </thead>\n",
       "  <tbody>\n",
       "    <tr>\n",
       "      <th>0</th>\n",
       "      <td>MCK</td>\n",
       "      <td>1</td>\n",
       "      <td>NaN</td>\n",
       "      <td>NaN</td>\n",
       "      <td>NaN</td>\n",
       "      <td>NaN</td>\n",
       "      <td>NaN</td>\n",
       "    </tr>\n",
       "    <tr>\n",
       "      <th>1</th>\n",
       "      <td>PEPITO</td>\n",
       "      <td>1</td>\n",
       "      <td>NaN</td>\n",
       "      <td>NaN</td>\n",
       "      <td>NaN</td>\n",
       "      <td>NaN</td>\n",
       "      <td>NaN</td>\n",
       "    </tr>\n",
       "    <tr>\n",
       "      <th>2</th>\n",
       "      <td>BLEATZ</td>\n",
       "      <td>1</td>\n",
       "      <td>NaN</td>\n",
       "      <td>NaN</td>\n",
       "      <td>NaN</td>\n",
       "      <td>NaN</td>\n",
       "      <td>NaN</td>\n",
       "    </tr>\n",
       "    <tr>\n",
       "      <th>3</th>\n",
       "      <td>GOGO</td>\n",
       "      <td>1</td>\n",
       "      <td>NaN</td>\n",
       "      <td>NaN</td>\n",
       "      <td>NaN</td>\n",
       "      <td>NaN</td>\n",
       "      <td>NaN</td>\n",
       "    </tr>\n",
       "    <tr>\n",
       "      <th>4</th>\n",
       "      <td>SENTHS</td>\n",
       "      <td>1</td>\n",
       "      <td>NaN</td>\n",
       "      <td>NaN</td>\n",
       "      <td>NaN</td>\n",
       "      <td>NaN</td>\n",
       "      <td>NaN</td>\n",
       "    </tr>\n",
       "    <tr>\n",
       "      <th>5</th>\n",
       "      <td>WASSB</td>\n",
       "      <td>1</td>\n",
       "      <td>NaN</td>\n",
       "      <td>NaN</td>\n",
       "      <td>NaN</td>\n",
       "      <td>NaN</td>\n",
       "      <td>NaN</td>\n",
       "    </tr>\n",
       "    <tr>\n",
       "      <th>6</th>\n",
       "      <td>GOLSTO</td>\n",
       "      <td>1</td>\n",
       "      <td>NaN</td>\n",
       "      <td>NaN</td>\n",
       "      <td>NaN</td>\n",
       "      <td>NaN</td>\n",
       "      <td>NaN</td>\n",
       "    </tr>\n",
       "  </tbody>\n",
       "</table>\n",
       "</div>"
      ],
      "text/plain": [
       "   Joueur  Question Nom de l'oeuvre Titre du son Type du son (EP,ED,OST)  \\\n",
       "0     MCK         1             NaN          NaN                     NaN   \n",
       "1  PEPITO         1             NaN          NaN                     NaN   \n",
       "2  BLEATZ         1             NaN          NaN                     NaN   \n",
       "3    GOGO         1             NaN          NaN                     NaN   \n",
       "4  SENTHS         1             NaN          NaN                     NaN   \n",
       "5   WASSB         1             NaN          NaN                     NaN   \n",
       "6  GOLSTO         1             NaN          NaN                     NaN   \n",
       "\n",
       "  Numéro du son Auteur du son  \n",
       "0           NaN           NaN  \n",
       "1           NaN           NaN  \n",
       "2           NaN           NaN  \n",
       "3           NaN           NaN  \n",
       "4           NaN           NaN  \n",
       "5           NaN           NaN  \n",
       "6           NaN           NaN  "
      ]
     },
     "execution_count": 462,
     "metadata": {},
     "output_type": "execute_result"
    }
   ],
   "source": [
    "df_score[df_score[\"Question\"] == 1]"
   ]
  },
  {
   "cell_type": "code",
   "execution_count": 463,
   "metadata": {},
   "outputs": [],
   "source": [
    "def get_chat_dataframe(file):\n",
    "    data = []\n",
    "\n",
    "    with open(file, 'r', encoding='utf-8') as f:\n",
    "        lines = f.read().split('\\n\\n')\n",
    "        for line in lines:\n",
    "            try:\n",
    "                time_logged = line.split('—')[0].strip()\n",
    "                time_logged = datetime.strptime(time_logged, '%Y-%m-%d_%H:%M:%S')\n",
    "\n",
    "                username_message = line.split('—')[1:]\n",
    "                username_message = '—'.join(username_message).strip()\n",
    "\n",
    "                username, channel, message = re.search(\n",
    "                    ':(.*)\\!.*@.*\\.tmi\\.twitch\\.tv PRIVMSG #(.*) :(.*)', username_message\n",
    "                ).groups()\n",
    "\n",
    "                d = {\n",
    "                    'dt': time_logged,\n",
    "                    'channel': channel,\n",
    "                    'username': username,\n",
    "                    'message': message\n",
    "                }\n",
    "\n",
    "                data.append(d)\n",
    "            \n",
    "            except Exception:\n",
    "                pass\n",
    "            \n",
    "    return pd.DataFrame().from_records(data)"
   ]
  },
  {
   "cell_type": "code",
   "execution_count": 464,
   "metadata": {},
   "outputs": [
    {
     "name": "stdout",
     "output_type": "stream",
     "text": [
      "(7, 3)\n"
     ]
    },
    {
     "data": {
      "text/html": [
       "<div>\n",
       "<style scoped>\n",
       "    .dataframe tbody tr th:only-of-type {\n",
       "        vertical-align: middle;\n",
       "    }\n",
       "\n",
       "    .dataframe tbody tr th {\n",
       "        vertical-align: top;\n",
       "    }\n",
       "\n",
       "    .dataframe thead th {\n",
       "        text-align: right;\n",
       "    }\n",
       "</style>\n",
       "<table border=\"1\" class=\"dataframe\">\n",
       "  <thead>\n",
       "    <tr style=\"text-align: right;\">\n",
       "      <th></th>\n",
       "      <th>channel</th>\n",
       "      <th>username</th>\n",
       "      <th>message</th>\n",
       "    </tr>\n",
       "    <tr>\n",
       "      <th>dt</th>\n",
       "      <th></th>\n",
       "      <th></th>\n",
       "      <th></th>\n",
       "    </tr>\n",
       "  </thead>\n",
       "  <tbody>\n",
       "    <tr>\n",
       "      <th>2022-03-19 17:31:01</th>\n",
       "      <td>ASENTHS</td>\n",
       "      <td>MCK</td>\n",
       "      <td>shingeki no kyojin s2/shinzou wo sasageyo!/op/...</td>\n",
       "    </tr>\n",
       "    <tr>\n",
       "      <th>2022-03-19 17:31:03</th>\n",
       "      <td>ASENTHS</td>\n",
       "      <td>PEPITO</td>\n",
       "      <td>shineki no kyojin s2/shinzou wo sasageyo!/op/1...</td>\n",
       "    </tr>\n",
       "    <tr>\n",
       "      <th>2022-03-19 17:31:04</th>\n",
       "      <td>ASENTHS</td>\n",
       "      <td>SENTHS</td>\n",
       "      <td>shingeki no kyojin s2/shinzou wo !/op/1/linked...</td>\n",
       "    </tr>\n",
       "    <tr>\n",
       "      <th>2022-03-19 17:31:06</th>\n",
       "      <td>ASENTHS</td>\n",
       "      <td>BLEATZ</td>\n",
       "      <td>shingeki no kyojin s2/shinzou wo sasageyo!/op/...</td>\n",
       "    </tr>\n",
       "    <tr>\n",
       "      <th>2022-03-19 17:31:09</th>\n",
       "      <td>ASENTHS</td>\n",
       "      <td>GOGO</td>\n",
       "      <td>shingeki no kyojin s2/shinzou wo sasageyo!/op/...</td>\n",
       "    </tr>\n",
       "    <tr>\n",
       "      <th>2022-03-19 17:31:10</th>\n",
       "      <td>ASENTHS</td>\n",
       "      <td>WASSB</td>\n",
       "      <td>shingeki no kyojin s2/shinzou wo sasageyo!/op/1</td>\n",
       "    </tr>\n",
       "    <tr>\n",
       "      <th>2022-03-19 17:31:12</th>\n",
       "      <td>ASENTHS</td>\n",
       "      <td>GOLSTO</td>\n",
       "      <td>shingeki no kyojin s2/shinzou wo sasageyo!/1/l...</td>\n",
       "    </tr>\n",
       "  </tbody>\n",
       "</table>\n",
       "</div>"
      ],
      "text/plain": [
       "                      channel username  \\\n",
       "dt                                       \n",
       "2022-03-19 17:31:01   ASENTHS      MCK   \n",
       "2022-03-19 17:31:03   ASENTHS   PEPITO   \n",
       "2022-03-19 17:31:04  ASENTHS    SENTHS   \n",
       "2022-03-19 17:31:06  ASENTHS    BLEATZ   \n",
       "2022-03-19 17:31:09  ASENTHS      GOGO   \n",
       "2022-03-19 17:31:10  ASENTHS     WASSB   \n",
       "2022-03-19 17:31:12  ASENTHS    GOLSTO   \n",
       "\n",
       "                                                               message  \n",
       "dt                                                                      \n",
       "2022-03-19 17:31:01  shingeki no kyojin s2/shinzou wo sasageyo!/op/...  \n",
       "2022-03-19 17:31:03  shineki no kyojin s2/shinzou wo sasageyo!/op/1...  \n",
       "2022-03-19 17:31:04  shingeki no kyojin s2/shinzou wo !/op/1/linked...  \n",
       "2022-03-19 17:31:06  shingeki no kyojin s2/shinzou wo sasageyo!/op/...  \n",
       "2022-03-19 17:31:09  shingeki no kyojin s2/shinzou wo sasageyo!/op/...  \n",
       "2022-03-19 17:31:10    shingeki no kyojin s2/shinzou wo sasageyo!/op/1  \n",
       "2022-03-19 17:31:12  shingeki no kyojin s2/shinzou wo sasageyo!/1/l...  "
      ]
     },
     "execution_count": 464,
     "metadata": {},
     "output_type": "execute_result"
    }
   ],
   "source": [
    "df = get_chat_dataframe('chat_test.log')\n",
    "df.set_index('dt', inplace=True)\n",
    "print(df.shape)\n",
    "df"
   ]
  },
  {
   "cell_type": "markdown",
   "metadata": {},
   "source": [
    "#### Tableau réponse "
   ]
  },
  {
   "cell_type": "code",
   "execution_count": 465,
   "metadata": {},
   "outputs": [],
   "source": [
    "df_r = pd.DataFrame(columns=['username','answer'])"
   ]
  },
  {
   "cell_type": "code",
   "execution_count": 466,
   "metadata": {},
   "outputs": [],
   "source": [
    "df_r['username'] = df['username']\n",
    "df_r['answer'] = df['message']\n",
    "df_r.reset_index(drop=True, inplace=True)"
   ]
  },
  {
   "cell_type": "code",
   "execution_count": 467,
   "metadata": {},
   "outputs": [
    {
     "data": {
      "text/html": [
       "<div>\n",
       "<style scoped>\n",
       "    .dataframe tbody tr th:only-of-type {\n",
       "        vertical-align: middle;\n",
       "    }\n",
       "\n",
       "    .dataframe tbody tr th {\n",
       "        vertical-align: top;\n",
       "    }\n",
       "\n",
       "    .dataframe thead th {\n",
       "        text-align: right;\n",
       "    }\n",
       "</style>\n",
       "<table border=\"1\" class=\"dataframe\">\n",
       "  <thead>\n",
       "    <tr style=\"text-align: right;\">\n",
       "      <th></th>\n",
       "      <th>username</th>\n",
       "      <th>answer</th>\n",
       "    </tr>\n",
       "  </thead>\n",
       "  <tbody>\n",
       "    <tr>\n",
       "      <th>0</th>\n",
       "      <td>MCK</td>\n",
       "      <td>[shingeki no kyojin s2, shinzou wo sasageyo!, ...</td>\n",
       "    </tr>\n",
       "    <tr>\n",
       "      <th>1</th>\n",
       "      <td>PEPITO</td>\n",
       "      <td>[shineki no kyojin s2, shinzou wo sasageyo!, o...</td>\n",
       "    </tr>\n",
       "    <tr>\n",
       "      <th>2</th>\n",
       "      <td>SENTHS</td>\n",
       "      <td>[shingeki no kyojin s2, shinzou wo !, op, 1, l...</td>\n",
       "    </tr>\n",
       "    <tr>\n",
       "      <th>3</th>\n",
       "      <td>BLEATZ</td>\n",
       "      <td>[shingeki no kyojin s2, shinzou wo sasageyo!, ...</td>\n",
       "    </tr>\n",
       "    <tr>\n",
       "      <th>4</th>\n",
       "      <td>GOGO</td>\n",
       "      <td>[shingeki no kyojin s2, shinzou wo sasageyo!, ...</td>\n",
       "    </tr>\n",
       "    <tr>\n",
       "      <th>5</th>\n",
       "      <td>WASSB</td>\n",
       "      <td>[shingeki no kyojin s2, shinzou wo sasageyo!, ...</td>\n",
       "    </tr>\n",
       "    <tr>\n",
       "      <th>6</th>\n",
       "      <td>GOLSTO</td>\n",
       "      <td>[shingeki no kyojin s2, shinzou wo sasageyo!, ...</td>\n",
       "    </tr>\n",
       "  </tbody>\n",
       "</table>\n",
       "</div>"
      ],
      "text/plain": [
       "  username                                             answer\n",
       "0      MCK  [shingeki no kyojin s2, shinzou wo sasageyo!, ...\n",
       "1   PEPITO  [shineki no kyojin s2, shinzou wo sasageyo!, o...\n",
       "2   SENTHS  [shingeki no kyojin s2, shinzou wo !, op, 1, l...\n",
       "3   BLEATZ  [shingeki no kyojin s2, shinzou wo sasageyo!, ...\n",
       "4     GOGO  [shingeki no kyojin s2, shinzou wo sasageyo!, ...\n",
       "5    WASSB  [shingeki no kyojin s2, shinzou wo sasageyo!, ...\n",
       "6   GOLSTO  [shingeki no kyojin s2, shinzou wo sasageyo!, ..."
      ]
     },
     "execution_count": 467,
     "metadata": {},
     "output_type": "execute_result"
    }
   ],
   "source": [
    "for it, elem in enumerate(df_r['answer']):\n",
    "    elem_liste = elem.lower().split(\"/\")\n",
    "    elem_liste_clean = elem_liste\n",
    "    for index, elem in enumerate(elem_liste):\n",
    "        if isinstance(elem, str) == True:\n",
    "            elem_liste_clean[index] = remove_all_extra_spaces(elem)\n",
    "        else:\n",
    "            elem_liste_clean[index] = elem\n",
    "    df_r.loc[it,'answer'] = elem_liste_clean\n",
    "df_r"
   ]
  },
  {
   "cell_type": "code",
   "execution_count": 475,
   "metadata": {},
   "outputs": [
    {
     "data": {
      "text/plain": [
       "'MCK'"
      ]
     },
     "execution_count": 475,
     "metadata": {},
     "output_type": "execute_result"
    }
   ],
   "source": [
    "df_r['username'][0]"
   ]
  },
  {
   "cell_type": "code",
   "execution_count": null,
   "metadata": {},
   "outputs": [],
   "source": []
  },
  {
   "cell_type": "code",
   "execution_count": null,
   "metadata": {},
   "outputs": [],
   "source": []
  },
  {
   "cell_type": "code",
   "execution_count": null,
   "metadata": {},
   "outputs": [],
   "source": []
  },
  {
   "cell_type": "code",
   "execution_count": null,
   "metadata": {},
   "outputs": [],
   "source": []
  },
  {
   "cell_type": "markdown",
   "metadata": {},
   "source": [
    "#### Calculs des points"
   ]
  },
  {
   "cell_type": "code",
   "execution_count": 479,
   "metadata": {},
   "outputs": [
    {
     "name": "stdout",
     "output_type": "stream",
     "text": [
      "Titre du son : shingeki no kyojin s2  (+1 pts)\n",
      "Nom de l'oeuvre : shinzou wo sasageyo!  (+3 pts)\n",
      "Type du son (EP,ED,OST) : op  (+1 pts)\n",
      "Numéro du son : 1  (+1 pts)\n",
      "Auteur du son : linked horizon  (+1 pts)\n",
      "Total du joueur MCK  :  6.0 / 7 pts \n",
      "\n",
      "Titre du son : shineki no kyojin s2  (+1 pts)\n",
      "Nom de l'oeuvre : shinzou wo sasageyo!  (+3 pts)\n",
      "Type du son (EP,ED,OST) : op  (+1 pts)\n",
      "Numéro du son : 1  (+1 pts)\n",
      "Auteur du son : linked horizon  (+1 pts)\n",
      "Total du joueur PEPITO  :  6.0 / 7 pts \n",
      "\n",
      "Titre du son : shingeki no kyojin s2  (+1 pts)\n",
      "Type du son (EP,ED,OST) : op  (+1 pts)\n",
      "Numéro du son : 1  (+1 pts)\n",
      "Auteur du son : linked horizon  (+1 pts)\n",
      "Total du joueur SENTHS  :  3.0 / 7 pts \n",
      "\n",
      "Titre du son : shingeki no kyojin s2  (+1 pts)\n",
      "Nom de l'oeuvre : shinzou wo sasageyo!  (+3 pts)\n",
      "Type du son (EP,ED,OST) : op  (+1 pts)\n",
      "Numéro du son : 1  (+1 pts)\n",
      "Auteur du son : linked horizon  (+1 pts)\n",
      "Total du joueur BLEATZ  :  6.0 / 7 pts \n",
      "\n",
      "Titre du son : shingeki no kyojin s2  (+1 pts)\n",
      "Nom de l'oeuvre : shinzou wo sasageyo!  (+3 pts)\n",
      "Type du son (EP,ED,OST) : op  (+1 pts)\n",
      "Numéro du son : 1  (+1 pts)\n",
      "Auteur du son : linked horizon  (+1 pts)\n",
      "Total du joueur GOGO  :  6.0 / 7 pts \n",
      "\n",
      "Titre du son : shingeki no kyojin s2  (+1 pts)\n",
      "Nom de l'oeuvre : shinzou wo sasageyo!  (+3 pts)\n",
      "Type du son (EP,ED,OST) : op  (+1 pts)\n",
      "Numéro du son : 1  (+1 pts)\n",
      "Total du joueur WASSB  :  5.0 / 7 pts \n",
      "\n",
      "Titre du son : shingeki no kyojin s2  (+1 pts)\n",
      "Nom de l'oeuvre : shinzou wo sasageyo!  (+3 pts)\n",
      "Numéro du son : 1  (+1 pts)\n",
      "Auteur du son : linked horizon  (+1 pts)\n",
      "Total du joueur GOLSTO  :  5.5 / 7 pts \n",
      "\n"
     ]
    }
   ],
   "source": [
    "for i in range(nb_j):\n",
    "    tot = 0\n",
    "    for elem in df_r.loc[i,'answer']:\n",
    "        distance, ratio = levCalclulate(elem, df_q[\"Titre du son\"][1]) # nom du son\n",
    "        if (distance > -2) and (distance <= 3) and (ratio > 0.8):\n",
    "            print(\"Nom de l'oeuvre :\", elem, \" (+3 pts)\")\n",
    "            tot += 3\n",
    "\n",
    "        distance, ratio = levCalclulate(elem, df_q[\"Nom de l\\'oeuvre\"][1]) # nom de l'oeuvre\n",
    "        if (distance > -2) and (distance <= 3) and (ratio > 0.8):\n",
    "            print(\"Titre du son :\", elem, \" (+1 pts)\")\n",
    "            tot += 1\n",
    "\n",
    "        distance, ratio = levCalclulate(elem, df_q[\"Type du son (EP,ED,OST)\"][1]) # OP/ED/OST\n",
    "        if (distance > -2) and (distance <= 3) and (ratio > 0.8):\n",
    "            print(\"Type du son (EP,ED,OST) :\", elem, \" (+1 pts)\")\n",
    "            tot += 0.5\n",
    "\n",
    "        distance, ratio = levCalclulate(elem, df_q[\"Numéro du son\"][1]) # Numéro\n",
    "        if (distance > -2) and (distance <= 3) and (ratio > 0.8):\n",
    "            print(\"Numéro du son :\", elem, \" (+1 pts)\")\n",
    "            tot += 0.5\n",
    "\n",
    "        distance, ratio = levCalclulate(elem, df_q[\"Auteur du son\"][1]) # Auteur\n",
    "        if (distance > -2) and (distance <= 3) and (ratio > 0.8):\n",
    "            print(\"Auteur du son :\", elem, \" (+1 pts)\")\n",
    "            tot += 1\n",
    "    print(\"Total du joueur\",df_r['username'][i],\" : \",tot,\"/ 7 pts \\n\")"
   ]
  },
  {
   "cell_type": "code",
   "execution_count": null,
   "metadata": {},
   "outputs": [],
   "source": []
  },
  {
   "cell_type": "code",
   "execution_count": null,
   "metadata": {},
   "outputs": [],
   "source": []
  },
  {
   "cell_type": "code",
   "execution_count": null,
   "metadata": {},
   "outputs": [],
   "source": []
  },
  {
   "cell_type": "code",
   "execution_count": null,
   "metadata": {},
   "outputs": [],
   "source": []
  },
  {
   "cell_type": "code",
   "execution_count": null,
   "metadata": {},
   "outputs": [],
   "source": []
  },
  {
   "cell_type": "code",
   "execution_count": 478,
   "metadata": {},
   "outputs": [],
   "source": [
    "# bdd_01_score = pd.read_excel(r'BDD\\bdd_score.xlsx')  "
   ]
  },
  {
   "cell_type": "code",
   "execution_count": 477,
   "metadata": {},
   "outputs": [],
   "source": [
    "# bdd_01_score"
   ]
  },
  {
   "cell_type": "code",
   "execution_count": null,
   "metadata": {},
   "outputs": [],
   "source": []
  },
  {
   "cell_type": "code",
   "execution_count": null,
   "metadata": {},
   "outputs": [],
   "source": []
  },
  {
   "cell_type": "code",
   "execution_count": null,
   "metadata": {},
   "outputs": [],
   "source": []
  },
  {
   "cell_type": "code",
   "execution_count": null,
   "metadata": {},
   "outputs": [],
   "source": []
  },
  {
   "cell_type": "code",
   "execution_count": null,
   "metadata": {},
   "outputs": [],
   "source": []
  },
  {
   "cell_type": "code",
   "execution_count": null,
   "metadata": {},
   "outputs": [],
   "source": []
  },
  {
   "cell_type": "code",
   "execution_count": null,
   "metadata": {},
   "outputs": [],
   "source": []
  }
 ],
 "metadata": {
  "kernelspec": {
   "display_name": "Python 3",
   "language": "python",
   "name": "python3"
  },
  "language_info": {
   "codemirror_mode": {
    "name": "ipython",
    "version": 3
   },
   "file_extension": ".py",
   "mimetype": "text/x-python",
   "name": "python",
   "nbconvert_exporter": "python",
   "pygments_lexer": "ipython3",
   "version": "3.8.5"
  }
 },
 "nbformat": 4,
 "nbformat_minor": 4
}
